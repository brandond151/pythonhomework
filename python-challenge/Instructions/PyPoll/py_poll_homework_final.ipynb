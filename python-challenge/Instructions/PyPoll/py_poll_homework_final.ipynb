{
 "cells": [
  {
   "cell_type": "code",
   "execution_count": 6,
   "metadata": {},
   "outputs": [],
   "source": [
    "import os\n",
    "import csv"
   ]
  },
  {
   "cell_type": "code",
   "execution_count": 7,
   "metadata": {},
   "outputs": [],
   "source": [
    "pyPoll_csv = os.path.join('Resources', \"election_data.csv\")\n",
    "\n",
    "student_name = \"Brandon Daniels\"\n",
    "candidates = []\n",
    "number_of_votes = 0\n",
    "count_of_votes = []\n",
    "percentages = []\n",
    "max_index = 0"
   ]
  },
  {
   "cell_type": "code",
   "execution_count": 8,
   "metadata": {},
   "outputs": [
    {
     "name": "stdout",
     "output_type": "stream",
     "text": [
      "Election Results\n",
      "--------------------------\n",
      "Total Votes: 3521001\n",
      "--------------------------\n",
      "Khan: 63.000% (2218231)\n",
      "Correy: 20.000% (704200)\n",
      "Li: 14.000% (492940)\n",
      "O'Tooley: 3.000% (105630)\n",
      "--------------------------\n",
      "Winner: Khan\n",
      "--------------------------\n",
      "By: Brandon Daniels :)\n"
     ]
    }
   ],
   "source": [
    "# Go to file then open it and read the CSV\n",
    "with open(pyPoll_csv, 'r') as csvfile:\n",
    "    csvreader = csv.reader(csvfile, delimiter=\",\")\n",
    "        \n",
    "    #skip the header\n",
    "    csv_header = next(csvreader)\n",
    "\n",
    "    #Count each vote line by line...\n",
    "    for line in csvreader:\n",
    "\n",
    "        #Then we need to add a vote to the total number\n",
    "        number_of_votes = (number_of_votes + 1)\n",
    "        #candidate voted for\n",
    "        candidate = line[2]\n",
    "        #Add to total for each tally, per canidate\n",
    "        if candidate in candidates:\n",
    "            index_of_canidates = candidates.index(candidate)\n",
    "            count_of_votes[index_of_canidates] = count_of_votes[index_of_canidates] + 1\n",
    "        #else create new spot in list for the canidate\n",
    "        else:\n",
    "            candidates.append(candidate)\n",
    "            count_of_votes.append(1)\n",
    "\n",
    "max_votes = count_of_votes[0]\n",
    "#find percentage of vote for each candidate and the winner\n",
    "for count in range(len(candidates)):\n",
    "    vote_percentage = round(float(count_of_votes[count]/number_of_votes)*100, 3)\n",
    "    percentages.append(vote_percentage)\n",
    "    if count_of_votes[count] > max_votes:\n",
    "        max_votes = count_of_votes[count]\n",
    "        print(max_votes)\n",
    "        max_index = count\n",
    "winner = candidates[max_index]\n",
    "\n",
    "#print results\n",
    "print(\"Election Results\")\n",
    "print(\"--------------------------\")\n",
    "print(f\"Total Votes: {number_of_votes}\")\n",
    "print(\"--------------------------\")\n",
    "for count in range(len(candidates)):\n",
    "    print(f\"{candidates[count]}: {percentages[count]}00% ({count_of_votes[count]})\")\n",
    "print(\"--------------------------\")\n",
    "print(f\"Winner: {winner}\")\n",
    "print(\"--------------------------\")\n",
    "print(f\"By: {student_name} :)\")"
   ]
  },
  {
   "cell_type": "code",
   "execution_count": null,
   "metadata": {},
   "outputs": [],
   "source": []
  }
 ],
 "metadata": {
  "kernelspec": {
   "display_name": "Python 3",
   "language": "python",
   "name": "python3"
  },
  "language_info": {
   "codemirror_mode": {
    "name": "ipython",
    "version": 3
   },
   "file_extension": ".py",
   "mimetype": "text/x-python",
   "name": "python",
   "nbconvert_exporter": "python",
   "pygments_lexer": "ipython3",
   "version": "3.7.6"
  }
 },
 "nbformat": 4,
 "nbformat_minor": 4
}

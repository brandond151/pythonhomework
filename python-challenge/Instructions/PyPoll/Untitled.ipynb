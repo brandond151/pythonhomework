{
 "cells": [
  {
   "cell_type": "code",
   "execution_count": 8,
   "metadata": {},
   "outputs": [],
   "source": [
    "#import os and csv files\n",
    "import os\n",
    "import csv\n",
    "\n",
    "#set path\n",
    "pyPoll_csv = os.path.join('Resources', 'election_data.csv')\n",
    "\n",
    "#initialize variables\n",
    "candidates = []\n",
    "number_of_votes = 0\n",
    "count_of_votes = []"
   ]
  },
  {
   "cell_type": "code",
   "execution_count": 15,
   "metadata": {},
   "outputs": [
    {
     "name": "stdout",
     "output_type": "stream",
     "text": [
      "Election Results\n",
      "--------------------------\n",
      "Total Votes: 14084004\n",
      "Khan: 31.500005254187656% (4436462)\n",
      "Correy: 9.999997159898562% (1408400)\n",
      "Li: 6.999998011928994% (985880)\n",
      "O'Tooley: 1.4999995739847845% (211260)\n",
      "---------------------------\n",
      "Winner: Khan\n",
      "---------------------------\n"
     ]
    }
   ],
   "source": [
    "#open the file\n",
    "with open(pyPoll_csv,\"r\") as csvfile:\n",
    "    csvreader = csv.reader(csvfile, delimiter=\",\")\n",
    "\n",
    "    #skip the header\n",
    "    csv_header = next(csvreader)\n",
    "\n",
    "    #go line by line and process each vote\n",
    "    for row in csvreader:\n",
    "\n",
    "        #add to total number of votes\n",
    "        number_of_votes = number_of_votes + 1\n",
    "\n",
    "        #candidate voted for\n",
    "        candidate = row[2]\n",
    "\n",
    "        #if candidate has other votes then add to vote tally\n",
    "        if candidate in candidates:\n",
    "            candidate_index = candidates.index(candidate)\n",
    "            count_of_votes[candidate_index] = count_of_votes[candidate_index] + 1\n",
    "            #else create new spot in list for candidate\n",
    "        else:\n",
    "            candidates.append(candidate)\n",
    "            count_of_votes.append(1)\n",
    "\n",
    "percentages = []\n",
    "max_votes = count_of_votes[0]\n",
    "max_index = 0\n",
    "#find percentage of vote for each candidate and the winner\n",
    "for count in range(len(candidates)):\n",
    "    vote_percentage = count_of_votes[count]/number_of_votes*100\n",
    "    percentages.append(vote_percentage)\n",
    "    if count_of_votes[count] > max_votes:\n",
    "        max_votes = count_of_votes[count]\n",
    "        print(max_votes)\n",
    "        max_index = count\n",
    "winner = candidates[max_index]\n",
    "\n",
    "#print results\n",
    "print(\"Election Results\")\n",
    "print(\"--------------------------\")\n",
    "print(f\"Total Votes: {number_of_votes}\")\n",
    "for count in range(len(candidates)):\n",
    "    print(f\"{candidates[count]}: {percentages[count]}% ({count_of_votes[count]})\")\n",
    "print(\"---------------------------\")\n",
    "print(f\"Winner: {winner}\")\n",
    "print(\"---------------------------\")"
   ]
  }
 ],
 "metadata": {
  "kernelspec": {
   "display_name": "Python 3",
   "language": "python",
   "name": "python3"
  }
 },
 "nbformat": 4,
 "nbformat_minor": 4
}

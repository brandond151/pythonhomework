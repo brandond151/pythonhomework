{
 "cells": [
  {
   "cell_type": "code",
   "execution_count": 8,
   "metadata": {},
   "outputs": [],
   "source": [
    "import os\n",
    "import csv\n",
    "\n",
    "pyBank_csv = os.path.join('Resources', 'budget_data.csv')\n",
    "\n",
    "total_months = 0\n",
    "total_pl = 0\n",
    "greatest_increase = 0\n",
    "greatest_decrease = 0\n",
    "previous_total = 0\n",
    "current_total = 0\n",
    "difference = 0\n",
    "sum_of_difference = 0\n",
    "listaverage = 0.0\n",
    "name = \"Brandon Daniels\""
   ]
  },
  {
   "cell_type": "code",
   "execution_count": 18,
   "metadata": {},
   "outputs": [
    {
     "name": "stdout",
     "output_type": "stream",
     "text": [
      "~Financial Analysis~\n",
      "----------------------------\n",
      "Total Months: 688\n",
      "Total: $307060624\n",
      "Average Change:($-286.44)\n",
      "Greatest Increase in Profits: Feb-2012 ($1926159)\n",
      "Greatest Decrease in Profits: Sep-2013 ($-2196167)\n",
      "\n",
      "By: Brandon Daniels Spr 2020 Class\n"
     ]
    }
   ],
   "source": [
    "# Go to file then open it and read the CSV\n",
    "with open(pyBank_csv, 'r') as csvfile:\n",
    "    csvreader = csv.reader(csvfile, delimiter=\",\")\n",
    "    #print(csvreader)\n",
    "\n",
    "    csv_header = next(csvreader)\n",
    "    #print(csv_header)\n",
    "    #Select the first row\n",
    "    #firstrow = next(csvreader)\n",
    "    #grab prev value from first row\n",
    "    #previous_total = int(firstrow[1])\n",
    "\n",
    "    for row in csvreader:  \n",
    "        total_months = total_months + 1\n",
    "        total_pl = total_pl + int(row[1])\n",
    "        current_total = int(row[1])\n",
    "        if total_months > 1:\n",
    "            difference = current_total - previous_total\n",
    "            #print(difference)\n",
    "            sum_of_difference = sum_of_difference + difference\n",
    "            #print(sum_of_difference)\n",
    "            if difference > greatest_increase:\n",
    "                greatest_increase = difference\n",
    "                max_month = row[0]\n",
    "            if difference < greatest_decrease:\n",
    "                greatest_decrease = difference\n",
    "                min_month = row[0]\n",
    "        #else:\n",
    "        previous_total = current_total\n",
    "        \n",
    "        \n",
    "listaverage = round(sum_of_difference / (total_months - 1), 2)\n",
    "print(\"~Financial Analysis~\")\n",
    "print(\"----------------------------\")\n",
    "print(f\"Total Months: {total_months}\")\n",
    "print(f\"Total: ${total_pl}\")\n",
    "print(f\"Average Change:(${listaverage})\")\n",
    "print(f\"Greatest Increase in Profits: {max_month} (${greatest_increase})\")\n",
    "print(f\"Greatest Decrease in Profits: {min_month} (${greatest_decrease})\\n\")\n",
    "print(\"By: \" + name + \" Spr 2020 Class\")\n"
   ]
  },
  {
   "cell_type": "code",
   "execution_count": null,
   "metadata": {},
   "outputs": [],
   "source": []
  }
 ],
 "metadata": {
  "kernelspec": {
   "display_name": "Python 3",
   "language": "python",
   "name": "python3"
  },
  "language_info": {
   "codemirror_mode": {
    "name": "ipython",
    "version": 3
   },
   "file_extension": ".py",
   "mimetype": "text/x-python",
   "name": "python",
   "nbconvert_exporter": "python",
   "pygments_lexer": "ipython3",
   "version": "3.7.6"
  }
 },
 "nbformat": 4,
 "nbformat_minor": 4
}
